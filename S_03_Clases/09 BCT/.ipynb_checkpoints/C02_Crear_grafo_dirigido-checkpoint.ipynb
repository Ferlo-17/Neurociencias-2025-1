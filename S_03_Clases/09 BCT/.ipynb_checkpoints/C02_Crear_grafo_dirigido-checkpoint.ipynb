{
 "cells": [
  {
   "cell_type": "code",
   "execution_count": 1,
   "id": "4eb8a54f",
   "metadata": {},
   "outputs": [],
   "source": [
    "import networkx as nx"
   ]
  },
  {
   "cell_type": "markdown",
   "id": "e3e14137",
   "metadata": {},
   "source": [
    "# Creación de grafos\n",
    "\n",
    "#### Documentación de grafos dirigidos usando networkx\n",
    "\n",
    "Véase [documentación](https://networkx.org/documentation/stable/tutorial.html)\n"
   ]
  },
  {
   "cell_type": "code",
   "execution_count": 2,
   "id": "9e77f3fd",
   "metadata": {},
   "outputs": [],
   "source": [
    "# Se crea un gráfico vacío\n",
    "G = nx.Graph()\n",
    "\n",
    "# Se agregan nodos al gráfico\n",
    "G.add_nodes_from(['A', 'B', 'C', 'D', 'E'])"
   ]
  },
  {
   "cell_type": "code",
   "execution_count": 3,
   "id": "8d5092f2",
   "metadata": {},
   "outputs": [
    {
     "data": {
      "text/plain": [
       "NodeDataView({'A': {}, 'B': {}, 'C': {}, 'D': {}, 'E': {}})"
      ]
     },
     "execution_count": 3,
     "metadata": {},
     "output_type": "execute_result"
    }
   ],
   "source": [
    "G.nodes(data=True)"
   ]
  },
  {
   "cell_type": "code",
   "execution_count": 4,
   "id": "af3afead",
   "metadata": {},
   "outputs": [
    {
     "data": {
      "image/png": "[encoded data removed]",
      "text/plain": [
       "<Figure size 432x288 with 1 Axes>"
      ]
     },
     "metadata": {},
     "output_type": "display_data"
    }
   ],
   "source": [
    "nx.draw_networkx(G, with_labels=True)"
   ]
  },
  {
   "cell_type": "code",
   "execution_count": 18,
   "id": "117e20fa",
   "metadata": {},
   "outputs": [
    {
     "data": {
      "text/plain": [
       "OutEdgeView([('A', 'B'), ('B', 'C'), ('C', 'A'), ('D', 'E')])"
      ]
     },
     "execution_count": 18,
     "metadata": {},
     "output_type": "execute_result"
    }
   ],
   "source": [
    "G.add_edge('A', 'B', weight=2.5)\n",
    "G.add_edge('B', 'C', weight=1.5)        \n",
    "G.add_edge('C', 'A', weight=2.0)\n",
    "G.add_edge('D', 'E', weight=1.0)\n",
    "\n",
    "G.add_edges_from([('A', 'B', {'weight':2.5}), \n",
    "                  ('B', 'C', {'weight':1.5}), \n",
    "                  ('C', 'A', {'weight':2.0}), \n",
    "                  ('D', 'E', {'weight':1.0})])\n",
    "\n",
    "G.edges()"
   ]
  },
  {
   "cell_type": "code",
   "execution_count": 25,
   "id": "905e86bc",
   "metadata": {},
   "outputs": [
    {
     "data": {
      "text/plain": [
       "AdjacencyView({'A': {'B': {'weight': 2.5}}, 'B': {'C': {'weight': 1.5}}, 'C': {'A': {'weight': 2.0}}, 'D': {'E': {'weight': 1.0}}, 'E': {}})"
      ]
     },
     "execution_count": 25,
     "metadata": {},
     "output_type": "execute_result"
    }
   ],
   "source": [
    "G.adj"
   ]
  },
  {
   "cell_type": "code",
   "execution_count": 21,
   "id": "be7d00cc",
   "metadata": {},
   "outputs": [
    {
     "data": {
      "text/plain": [
       "[('A', {'B': {'weight': 2.5}}),\n",
       " ('B', {'C': {'weight': 1.5}}),\n",
       " ('C', {'A': {'weight': 2.0}}),\n",
       " ('D', {'E': {'weight': 1.0}}),\n",
       " ('E', {})]"
      ]
     },
     "execution_count": 21,
     "metadata": {},
     "output_type": "execute_result"
    }
   ],
   "source": [
    "list(G.adjacency())"
   ]
  },
  {
   "cell_type": "code",
   "execution_count": 26,
   "id": "76f19a61",
   "metadata": {},
   "outputs": [
    {
     "data": {
      "text/plain": [
       "{'A': array([-0.41182886,  0.6016313 ]),\n",
       " 'B': array([-0.72788145,  0.39649252]),\n",
       " 'C': array([-0.27287986,  0.29142014]),\n",
       " 'D': array([ 0.41259018, -0.7268138 ]),\n",
       " 'E': array([ 1.        , -0.56273016])}"
      ]
     },
     "execution_count": 26,
     "metadata": {},
     "output_type": "execute_result"
    }
   ],
   "source": [
    "pos = nx.spring_layout(G)\n",
    "pos"
   ]
  },
  {
   "cell_type": "code",
   "execution_count": 27,
   "id": "1016be79",
   "metadata": {},
   "outputs": [
    {
     "data": {
      "image/png": "[encoded data removed]",
      "text/plain": [
       "<Figure size 432x288 with 1 Axes>"
      ]
     },
     "metadata": {},
     "output_type": "display_data"
    }
   ],
   "source": [
    "nx.draw_networkx(G, pos, with_labels=True, arrows=True, arrowstyle='-|>')"
   ]
  },
  {
   "cell_type": "code",
   "execution_count": 14,
   "id": "ec78bfc7",
   "metadata": {},
   "outputs": [
    {
     "data": {
      "text/plain": [
       "{('A', 'B'): Text(0.7133679743286359, 0.1619813357377919, '2.5'),\n",
       " ('B', 'C'): Text(0.6106993034470032, 0.2734422696576185, '1.5'),\n",
       " ('C', 'A'): Text(0.5280035486462178, 0.14468506331546316, '2.0'),\n",
       " ('D', 'E'): Text(-0.9260354132109285, -0.2900543343554368, '1.0')}"
      ]
     },
     "execution_count": 14,
     "metadata": {},
     "output_type": "execute_result"
    },
    {
     "data": {
      "image/png": "[encoded data removed]",
      "text/plain": [
       "<Figure size 432x288 with 1 Axes>"
      ]
     },
     "metadata": {},
     "output_type": "display_data"
    }
   ],
   "source": [
    "# nodes\n",
    "nx.draw_networkx_nodes(G, pos, node_size=700)\n",
    "# edges\n",
    "nx.draw_networkx_edges(G, pos, edgelist=G.edges(), width=6)\n",
    "# labels\n",
    "# node labels\n",
    "nx.draw_networkx_labels(G, pos, font_size=20)\n",
    "# edge weight labels\n",
    "edge_labels = nx.get_edge_attributes(G, \"weight\")\n",
    "nx.draw_networkx_edge_labels(G, pos, edge_labels)"
   ]
  },
  {
   "cell_type": "markdown",
   "id": "ab47e4f8",
   "metadata": {},
   "source": [
    "### Eliminando aristas"
   ]
  },
  {
   "cell_type": "code",
   "execution_count": null,
   "id": "6047c165",
   "metadata": {},
   "outputs": [],
   "source": [
    "G.remove_edge('D', 'E')\n",
    "nx.draw_networkx(G, with_labels=True, arrows=True, **options)"
   ]
  },
  {
   "cell_type": "markdown",
   "id": "d019314d",
   "metadata": {},
   "source": [
    "## Grafo a dataframe"
   ]
  },
  {
   "cell_type": "code",
   "execution_count": 28,
   "id": "2a9b37f3",
   "metadata": {},
   "outputs": [
    {
     "data": {
      "text/html": [
       "<div>\n",
       "<style scoped>\n",
       "    .dataframe tbody tr th:only-of-type {\n",
       "        vertical-align: middle;\n",
       "    }\n",
       "\n",
       "    .dataframe tbody tr th {\n",
       "        vertical-align: top;\n",
       "    }\n",
       "\n",
       "    .dataframe thead th {\n",
       "        text-align: right;\n",
       "    }\n",
       "</style>\n",
       "<table border=\"1\" class=\"dataframe\">\n",
       "  <thead>\n",
       "    <tr style=\"text-align: right;\">\n",
       "      <th></th>\n",
       "      <th>A</th>\n",
       "      <th>B</th>\n",
       "      <th>C</th>\n",
       "      <th>D</th>\n",
       "      <th>E</th>\n",
       "    </tr>\n",
       "  </thead>\n",
       "  <tbody>\n",
       "    <tr>\n",
       "      <th>A</th>\n",
       "      <td>0.0</td>\n",
       "      <td>2.5</td>\n",
       "      <td>0.0</td>\n",
       "      <td>0.0</td>\n",
       "      <td>0.0</td>\n",
       "    </tr>\n",
       "    <tr>\n",
       "      <th>B</th>\n",
       "      <td>0.0</td>\n",
       "      <td>0.0</td>\n",
       "      <td>1.5</td>\n",
       "      <td>0.0</td>\n",
       "      <td>0.0</td>\n",
       "    </tr>\n",
       "    <tr>\n",
       "      <th>C</th>\n",
       "      <td>2.0</td>\n",
       "      <td>0.0</td>\n",
       "      <td>0.0</td>\n",
       "      <td>0.0</td>\n",
       "      <td>0.0</td>\n",
       "    </tr>\n",
       "    <tr>\n",
       "      <th>D</th>\n",
       "      <td>0.0</td>\n",
       "      <td>0.0</td>\n",
       "      <td>0.0</td>\n",
       "      <td>0.0</td>\n",
       "      <td>1.0</td>\n",
       "    </tr>\n",
       "    <tr>\n",
       "      <th>E</th>\n",
       "      <td>0.0</td>\n",
       "      <td>0.0</td>\n",
       "      <td>0.0</td>\n",
       "      <td>0.0</td>\n",
       "      <td>0.0</td>\n",
       "    </tr>\n",
       "  </tbody>\n",
       "</table>\n",
       "</div>"
      ],
      "text/plain": [
       "     A    B    C    D    E\n",
       "A  0.0  2.5  0.0  0.0  0.0\n",
       "B  0.0  0.0  1.5  0.0  0.0\n",
       "C  2.0  0.0  0.0  0.0  0.0\n",
       "D  0.0  0.0  0.0  0.0  1.0\n",
       "E  0.0  0.0  0.0  0.0  0.0"
      ]
     },
     "execution_count": 28,
     "metadata": {},
     "output_type": "execute_result"
    }
   ],
   "source": [
    "nx.to_pandas_adjacency(G)"
   ]
  },
  {
   "cell_type": "code",
   "execution_count": 29,
   "id": "eec274a6",
   "metadata": {},
   "outputs": [
    {
     "data": {
      "text/html": [
       "<div>\n",
       "<style scoped>\n",
       "    .dataframe tbody tr th:only-of-type {\n",
       "        vertical-align: middle;\n",
       "    }\n",
       "\n",
       "    .dataframe tbody tr th {\n",
       "        vertical-align: top;\n",
       "    }\n",
       "\n",
       "    .dataframe thead th {\n",
       "        text-align: right;\n",
       "    }\n",
       "</style>\n",
       "<table border=\"1\" class=\"dataframe\">\n",
       "  <thead>\n",
       "    <tr style=\"text-align: right;\">\n",
       "      <th></th>\n",
       "      <th>source</th>\n",
       "      <th>target</th>\n",
       "      <th>weight</th>\n",
       "    </tr>\n",
       "  </thead>\n",
       "  <tbody>\n",
       "    <tr>\n",
       "      <th>0</th>\n",
       "      <td>A</td>\n",
       "      <td>B</td>\n",
       "      <td>2.5</td>\n",
       "    </tr>\n",
       "    <tr>\n",
       "      <th>1</th>\n",
       "      <td>B</td>\n",
       "      <td>C</td>\n",
       "      <td>1.5</td>\n",
       "    </tr>\n",
       "    <tr>\n",
       "      <th>2</th>\n",
       "      <td>C</td>\n",
       "      <td>A</td>\n",
       "      <td>2.0</td>\n",
       "    </tr>\n",
       "    <tr>\n",
       "      <th>3</th>\n",
       "      <td>D</td>\n",
       "      <td>E</td>\n",
       "      <td>1.0</td>\n",
       "    </tr>\n",
       "  </tbody>\n",
       "</table>\n",
       "</div>"
      ],
      "text/plain": [
       "  source target  weight\n",
       "0      A      B     2.5\n",
       "1      B      C     1.5\n",
       "2      C      A     2.0\n",
       "3      D      E     1.0"
      ]
     },
     "execution_count": 29,
     "metadata": {},
     "output_type": "execute_result"
    }
   ],
   "source": [
    "nx.to_pandas_edgelist(G)"
   ]
  },
  {
   "cell_type": "code",
   "execution_count": null,
   "id": "97cf1c21",
   "metadata": {},
   "outputs": [],
   "source": []
  }
 ],
 "metadata": {
  "kernelspec": {
   "display_name": "Python 3 (ipykernel)",
   "language": "python",
   "name": "python3"
  },
  "language_info": {
   "codemirror_mode": {
    "name": "ipython",
    "version": 3
   },
   "file_extension": ".py",
   "mimetype": "text/x-python",
   "name": "python",
   "nbconvert_exporter": "python",
   "pygments_lexer": "ipython3",
   "version": "3.9.7"
  }
 },
 "nbformat": 4,
 "nbformat_minor": 5
}
