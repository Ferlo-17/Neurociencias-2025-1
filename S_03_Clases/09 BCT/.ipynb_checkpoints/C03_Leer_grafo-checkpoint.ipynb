{
 "cells": [
  {
   "cell_type": "code",
   "execution_count": 1,
   "id": "554e8caf",
   "metadata": {},
   "outputs": [],
   "source": [
    "import networkx as nx\n",
    "import pandas as pd"
   ]
  },
  {
   "cell_type": "markdown",
   "id": "26ef6f96",
   "metadata": {},
   "source": [
    "# Leer grafos desde matriz de adyacencia\n",
    "\n",
    "#### Documentación de grafos desde matriz de adyacencia\n",
    "\n",
    "Véase [documentación](https://networkx.org/documentation/stable/reference/generated/networkx.convert_matrix.from_pandas_adjacency.html)\n"
   ]
  },
  {
   "cell_type": "code",
   "execution_count": 11,
   "id": "c4948e0a",
   "metadata": {},
   "outputs": [
    {
     "data": {
      "text/html": [
       "<div>\n",
       "<style scoped>\n",
       "    .dataframe tbody tr th:only-of-type {\n",
       "        vertical-align: middle;\n",
       "    }\n",
       "\n",
       "    .dataframe tbody tr th {\n",
       "        vertical-align: top;\n",
       "    }\n",
       "\n",
       "    .dataframe thead th {\n",
       "        text-align: right;\n",
       "    }\n",
       "</style>\n",
       "<table border=\"1\" class=\"dataframe\">\n",
       "  <thead>\n",
       "    <tr style=\"text-align: right;\">\n",
       "      <th></th>\n",
       "      <th>A</th>\n",
       "      <th>B</th>\n",
       "      <th>C</th>\n",
       "      <th>D</th>\n",
       "      <th>E</th>\n",
       "    </tr>\n",
       "  </thead>\n",
       "  <tbody>\n",
       "    <tr>\n",
       "      <th>A</th>\n",
       "      <td>0</td>\n",
       "      <td>3</td>\n",
       "      <td>0</td>\n",
       "      <td>2</td>\n",
       "      <td>0</td>\n",
       "    </tr>\n",
       "    <tr>\n",
       "      <th>B</th>\n",
       "      <td>3</td>\n",
       "      <td>0</td>\n",
       "      <td>0</td>\n",
       "      <td>0</td>\n",
       "      <td>2</td>\n",
       "    </tr>\n",
       "    <tr>\n",
       "      <th>C</th>\n",
       "      <td>0</td>\n",
       "      <td>0</td>\n",
       "      <td>1</td>\n",
       "      <td>1</td>\n",
       "      <td>0</td>\n",
       "    </tr>\n",
       "    <tr>\n",
       "      <th>D</th>\n",
       "      <td>1</td>\n",
       "      <td>0</td>\n",
       "      <td>0</td>\n",
       "      <td>0</td>\n",
       "      <td>1</td>\n",
       "    </tr>\n",
       "    <tr>\n",
       "      <th>E</th>\n",
       "      <td>0</td>\n",
       "      <td>4</td>\n",
       "      <td>0</td>\n",
       "      <td>1</td>\n",
       "      <td>1</td>\n",
       "    </tr>\n",
       "  </tbody>\n",
       "</table>\n",
       "</div>"
      ],
      "text/plain": [
       "   A  B  C  D  E\n",
       "A  0  3  0  2  0\n",
       "B  3  0  0  0  2\n",
       "C  0  0  1  1  0\n",
       "D  1  0  0  0  1\n",
       "E  0  4  0  1  1"
      ]
     },
     "execution_count": 11,
     "metadata": {},
     "output_type": "execute_result"
    }
   ],
   "source": [
    "nodes = ['A', 'B', 'C', 'D', 'E']\n",
    "df = pd.DataFrame([[0, 3, 0, 2, 0], \n",
    "                   [3, 0, 0, 0, 2], \n",
    "                   [0, 0, 1, 1, 0], \n",
    "                   [1, 0, 0, 0, 1], \n",
    "                   [0, 4, 0, 1, 1]], columns=nodes, index=nodes)\n",
    "df"
   ]
  },
  {
   "cell_type": "code",
   "execution_count": 12,
   "id": "9bad0150",
   "metadata": {},
   "outputs": [],
   "source": [
    "G = nx.from_pandas_adjacency(df)"
   ]
  },
  {
   "cell_type": "code",
   "execution_count": 13,
   "id": "4636e90d",
   "metadata": {},
   "outputs": [
    {
     "data": {
      "text/plain": [
       "NodeDataView({'A': {}, 'B': {}, 'C': {}, 'D': {}, 'E': {}})"
      ]
     },
     "execution_count": 13,
     "metadata": {},
     "output_type": "execute_result"
    }
   ],
   "source": [
    "G.nodes(data=True)"
   ]
  },
  {
   "cell_type": "code",
   "execution_count": 14,
   "id": "80e0b70a",
   "metadata": {},
   "outputs": [
    {
     "data": {
      "text/plain": [
       "EdgeView([('A', 'B'), ('A', 'D'), ('B', 'E'), ('C', 'C'), ('C', 'D'), ('D', 'E'), ('E', 'E')])"
      ]
     },
     "execution_count": 14,
     "metadata": {},
     "output_type": "execute_result"
    }
   ],
   "source": [
    "G.edges"
   ]
  },
  {
   "cell_type": "code",
   "execution_count": 15,
   "id": "811ec5cc",
   "metadata": {},
   "outputs": [
    {
     "data": {
      "text/plain": [
       "AdjacencyView({'A': {'B': {'weight': 3}, 'D': {'weight': 1}}, 'B': {'A': {'weight': 3}, 'E': {'weight': 4}}, 'C': {'C': {'weight': 1}, 'D': {'weight': 1}}, 'D': {'A': {'weight': 1}, 'C': {'weight': 1}, 'E': {'weight': 1}}, 'E': {'E': {'weight': 1}, 'B': {'weight': 4}, 'D': {'weight': 1}}})"
      ]
     },
     "execution_count": 15,
     "metadata": {},
     "output_type": "execute_result"
    }
   ],
   "source": [
    "G.adj"
   ]
  },
  {
   "cell_type": "code",
   "execution_count": 16,
   "id": "705071c5",
   "metadata": {},
   "outputs": [
    {
     "data": {
      "image/png": "[encoded data removed]",
      "text/plain": [
       "<Figure size 432x288 with 1 Axes>"
      ]
     },
     "metadata": {},
     "output_type": "display_data"
    }
   ],
   "source": [
    "nx.draw_networkx(G, with_labels=True)"
   ]
  },
  {
   "cell_type": "code",
   "execution_count": 17,
   "id": "161dd574",
   "metadata": {},
   "outputs": [
    {
     "data": {
      "image/png": "[encoded data removed]",
      "text/plain": [
       "<Figure size 432x288 with 1 Axes>"
      ]
     },
     "metadata": {},
     "output_type": "display_data"
    }
   ],
   "source": [
    "nx.draw_networkx(G, with_labels=True, arrows=True, arrowstyle='-|>')"
   ]
  },
  {
   "cell_type": "code",
   "execution_count": 18,
   "id": "9e4ca82d",
   "metadata": {},
   "outputs": [
    {
     "data": {
      "text/plain": [
       "{('A', 'B'): Text(0.07752863262901362, 0.22482194997497543, '3'),\n",
       " ('A', 'D'): Text(-0.054643612197724234, -0.2560940792495474, '1'),\n",
       " ('B', 'E'): Text(0.5546436121977243, 0.3417067861468698, '4'),\n",
       " ('C', 'C'): Text(-1.0, -0.17122541379464534, '1'),\n",
       " ('C', 'D'): Text(-0.47060709494401126, -0.3422597589481423, '1'),\n",
       " ('D', 'E'): Text(0.4224713673709864, -0.13920924307765303, '1'),\n",
       " ('E', 'E'): Text(0.7861569246299953, 0.23487561794633324, '1')}"
      ]
     },
     "execution_count": 18,
     "metadata": {},
     "output_type": "execute_result"
    },
    {
     "data": {
      "image/png": "[encoded data removed]",
      "text/plain": [
       "<Figure size 432x288 with 1 Axes>"
      ]
     },
     "metadata": {},
     "output_type": "display_data"
    }
   ],
   "source": [
    "pos = nx.spring_layout(G)\n",
    "\n",
    "nx.draw_networkx(G, pos, with_labels=True, arrows=True, arrowstyle='-|>')\n",
    "# edge weight labels\n",
    "edge_labels = nx.get_edge_attributes(G, \"weight\")\n",
    "nx.draw_networkx_edge_labels(G, pos, edge_labels)"
   ]
  },
  {
   "cell_type": "markdown",
   "id": "fb5129e2",
   "metadata": {},
   "source": [
    "### Eliminando aristas"
   ]
  },
  {
   "cell_type": "code",
   "execution_count": null,
   "id": "e7099d09",
   "metadata": {},
   "outputs": [],
   "source": [
    "G.remove_edge('D', 'E')\n",
    "nx.draw_networkx(G, with_labels=True, arrows=True, **options)"
   ]
  },
  {
   "cell_type": "markdown",
   "id": "719ef6ad",
   "metadata": {},
   "source": [
    "# Grafo dirigido desde matriz de adyacencia"
   ]
  },
  {
   "cell_type": "code",
   "execution_count": 19,
   "id": "c77a4bc6",
   "metadata": {},
   "outputs": [],
   "source": [
    "G = nx.from_pandas_adjacency(df, create_using=nx.DiGraph())"
   ]
  },
  {
   "cell_type": "code",
   "execution_count": 20,
   "id": "ee6bffd4",
   "metadata": {},
   "outputs": [
    {
     "data": {
      "text/plain": [
       "True"
      ]
     },
     "execution_count": 20,
     "metadata": {},
     "output_type": "execute_result"
    }
   ],
   "source": [
    "G.is_directed()"
   ]
  },
  {
   "cell_type": "code",
   "execution_count": 21,
   "id": "6f40c8d3",
   "metadata": {},
   "outputs": [
    {
     "data": {
      "text/plain": [
       "AdjacencyView({'A': {'B': {'weight': 3}, 'D': {'weight': 2}}, 'B': {'A': {'weight': 3}, 'E': {'weight': 2}}, 'C': {'C': {'weight': 1}, 'D': {'weight': 1}}, 'D': {'A': {'weight': 1}, 'E': {'weight': 1}}, 'E': {'E': {'weight': 1}, 'B': {'weight': 4}, 'D': {'weight': 1}}})"
      ]
     },
     "execution_count": 21,
     "metadata": {},
     "output_type": "execute_result"
    }
   ],
   "source": [
    "G.adj"
   ]
  },
  {
   "cell_type": "code",
   "execution_count": 22,
   "id": "e53005ba",
   "metadata": {},
   "outputs": [
    {
     "data": {
      "image/png": "[encoded data removed]",
      "text/plain": [
       "<Figure size 432x288 with 1 Axes>"
      ]
     },
     "metadata": {},
     "output_type": "display_data"
    }
   ],
   "source": [
    "nx.draw_networkx(G, with_labels=True, arrows=True, arrowstyle='-|>')"
   ]
  },
  {
   "cell_type": "code",
   "execution_count": 23,
   "id": "ea6b7de1",
   "metadata": {},
   "outputs": [
    {
     "data": {
      "text/plain": [
       "{('A', 'B'): Text(0.0383995768572481, 0.05822056672432545, '3'),\n",
       " ('A', 'D'): Text(-0.32431929004304694, -0.38795387185560615, '2'),\n",
       " ('B', 'A'): Text(0.0383995768572481, 0.05822056672432545, '3'),\n",
       " ('B', 'E'): Text(0.4649856501812619, -0.112046128144394, '2'),\n",
       " ('C', 'C'): Text(-0.2813327202764301, 1.0, '1'),\n",
       " ('C', 'D'): Text(-0.3261772144055024, 0.14009518604333066, '1'),\n",
       " ('D', 'A'): Text(-0.32431929004304694, -0.38795387185560615, '1'),\n",
       " ('D', 'E'): Text(0.10226678328096692, -0.5582205667243256, '1'),\n",
       " ('E', 'E'): Text(0.5755552750965085, -0.3966315055353125, '1'),\n",
       " ('E', 'B'): Text(0.4649856501812619, -0.112046128144394, '4'),\n",
       " ('E', 'D'): Text(0.10226678328096692, -0.5582205667243256, '1')}"
      ]
     },
     "execution_count": 23,
     "metadata": {},
     "output_type": "execute_result"
    },
    {
     "data": {
      "image/png": "[encoded data removed]",
      "text/plain": [
       "<Figure size 432x288 with 1 Axes>"
      ]
     },
     "metadata": {},
     "output_type": "display_data"
    }
   ],
   "source": [
    "pos = nx.spring_layout(G)\n",
    "\n",
    "nx.draw_networkx(G, pos, with_labels=True, arrows=True, arrowstyle='-|>')\n",
    "# edge weight labels\n",
    "edge_labels = nx.get_edge_attributes(G, \"weight\")\n",
    "nx.draw_networkx_edge_labels(G, pos, edge_labels)"
   ]
  },
  {
   "cell_type": "code",
   "execution_count": null,
   "id": "0688aaaa",
   "metadata": {},
   "outputs": [],
   "source": []
  }
 ],
 "metadata": {
  "kernelspec": {
   "display_name": "Python 3 (ipykernel)",
   "language": "python",
   "name": "python3"
  },
  "language_info": {
   "codemirror_mode": {
    "name": "ipython",
    "version": 3
   },
   "file_extension": ".py",
   "mimetype": "text/x-python",
   "name": "python",
   "nbconvert_exporter": "python",
   "pygments_lexer": "ipython3",
   "version": "3.9.7"
  }
 },
 "nbformat": 4,
 "nbformat_minor": 5
}
