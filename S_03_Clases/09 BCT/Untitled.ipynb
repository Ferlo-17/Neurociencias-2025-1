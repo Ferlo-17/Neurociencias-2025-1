{
 "cells": [
  {
   "cell_type": "code",
   "execution_count": 1,
   "id": "14446edd",
   "metadata": {},
   "outputs": [],
   "source": [
    "import scipy.io"
   ]
  },
  {
   "cell_type": "code",
   "execution_count": 2,
   "id": "9bb41b17",
   "metadata": {
    "scrolled": true
   },
   "outputs": [
    {
     "data": {
      "text/plain": [
       "{'__header__': b'MATLAB 5.0 MAT-file, Platform: PCWIN, Created on: Wed May 29 16:24:29 2013',\n",
       " '__version__': '1.0',\n",
       " '__globals__': [],\n",
       " 'CIJall': array([[0, 3, 3, ..., 0, 0, 0],\n",
       "        [3, 0, 3, ..., 0, 0, 0],\n",
       "        [3, 3, 0, ..., 0, 0, 0],\n",
       "        ...,\n",
       "        [0, 0, 0, ..., 0, 0, 0],\n",
       "        [0, 0, 0, ..., 0, 0, 0],\n",
       "        [0, 0, 0, ..., 0, 0, 0]], dtype=uint8),\n",
       " 'CIJctx': array([[0, 3, 3, ..., 0, 0, 0],\n",
       "        [3, 0, 3, ..., 0, 0, 0],\n",
       "        [3, 3, 0, ..., 0, 0, 0],\n",
       "        ...,\n",
       "        [0, 0, 0, ..., 0, 0, 3],\n",
       "        [0, 0, 0, ..., 2, 0, 2],\n",
       "        [0, 0, 0, ..., 2, 2, 0]], dtype=uint8),\n",
       " 'Names': array(['    17', '    18', '    19', '  PLLS', '  PMLS', '  AMLS',\n",
       "        '  ALLS', '   VLS', '   DLS', '   21a', '   21b', '   20a',\n",
       "        '   20b', '     7', '   AES', '    PS', '    AI', '   AII',\n",
       "        '   AAF', '     P', '   VPc', '   EPp', '   Tem', '    3a',\n",
       "        '    3b', '     1', '     2', '   SII', '   SIV', '    4g',\n",
       "        '     4', '    6l', '    6m', '   5Am', '   5Al', '   5Bm',\n",
       "        '   5Bl', '  SSAi', '  SSAo', 'PFCMil', ' PFCMd', '  PFCL',\n",
       "        '    Ia', '    Ig', '   Cga', '   CGp', '    RS', '    35',\n",
       "        '    36', '   pSb', '    Sb', '   Enr'], dtype='<U6')}"
      ]
     },
     "execution_count": 2,
     "metadata": {},
     "output_type": "execute_result"
    }
   ],
   "source": [
    "path = r\"C:\\Users\\OMEN CI7\\Documents\\repository\\Neurociencias-2025-1\\BCT\\BCT\\2019_03_03_BCT\\data_and_demos\\cat.mat\"\n",
    "\n",
    "mat_json = scipy.io.loadmat(path)\n",
    "mat_json"
   ]
  },
  {
   "cell_type": "code",
   "execution_count": 9,
   "id": "a48bd469",
   "metadata": {},
   "outputs": [
    {
     "data": {
      "text/plain": [
       "52"
      ]
     },
     "execution_count": 9,
     "metadata": {},
     "output_type": "execute_result"
    }
   ],
   "source": [
    "len(mat_json['Names'])"
   ]
  },
  {
   "cell_type": "code",
   "execution_count": null,
   "id": "11b9b002",
   "metadata": {},
   "outputs": [],
   "source": []
  }
 ],
 "metadata": {
  "kernelspec": {
   "display_name": "Python 3 (ipykernel)",
   "language": "python",
   "name": "python3"
  },
  "language_info": {
   "codemirror_mode": {
    "name": "ipython",
    "version": 3
   },
   "file_extension": ".py",
   "mimetype": "text/x-python",
   "name": "python",
   "nbconvert_exporter": "python",
   "pygments_lexer": "ipython3",
   "version": "3.9.7"
  }
 },
 "nbformat": 4,
 "nbformat_minor": 5
}
