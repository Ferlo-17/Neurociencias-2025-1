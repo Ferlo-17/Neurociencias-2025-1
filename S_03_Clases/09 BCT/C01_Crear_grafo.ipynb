{
 "cells": [
  {
   "cell_type": "code",
   "execution_count": null,
   "id": "a48612de",
   "metadata": {},
   "outputs": [],
   "source": [
    "import networkx as nx"
   ]
  },
  {
   "cell_type": "markdown",
   "id": "cc3f17de",
   "metadata": {},
   "source": [
    "# Creación de grafos\n",
    "\n",
    "#### Documentación de grafos usando networkx\n",
    "\n",
    "Véase [documentación](https://networkx.org/documentation/stable/reference/classes/digraph.html)\n"
   ]
  },
  {
   "cell_type": "code",
   "execution_count": null,
   "id": "f4265bbd",
   "metadata": {},
   "outputs": [],
   "source": [
    "# Se crea un gráfico vacío\n",
    "G = nx.Graph()\n",
    "\n",
    "# Se agregan nodos al gráfico\n",
    "G.add_node('A', pos=[-0.4, 0.6])\n",
    "G.add_node('B', pos=[-0.7, 0.4])\n",
    "G.add_node('C', pos=[-0.3, 0.3])\n",
    "G.add_node('D', pos=[ 0.4,-0.7])\n",
    "G.add_node('E', pos=[ 1.0,-0.5])\n",
    "\n",
    "G.add_nodes_from([('A', {'pos':[-0.4, 0.6]}), \n",
    "                  ('B', {'pos':[-0.7, 0.4]}), \n",
    "                  ('C', {'pos':[-0.3, 0.3]}), \n",
    "                  ('D', {'pos':[ 0.4,-0.7]}), \n",
    "                  ('E', {'pos':[ 1.0,-0.5]})])"
   ]
  },
  {
   "cell_type": "code",
   "execution_count": null,
   "id": "fe4e7ad1",
   "metadata": {},
   "outputs": [],
   "source": [
    "G.nodes(data=True)"
   ]
  },
  {
   "cell_type": "code",
   "execution_count": null,
   "id": "71140ed4",
   "metadata": {},
   "outputs": [],
   "source": [
    "pos=nx.get_node_attributes(G,'pos')\n",
    "\n",
    "nx.draw_networkx(G, pos, with_labels=True)"
   ]
  },
  {
   "cell_type": "code",
   "execution_count": null,
   "id": "1c103cf6",
   "metadata": {},
   "outputs": [],
   "source": [
    "G.add_edge('A', 'B', weight=2.5)\n",
    "G.add_edge('B', 'C', weight=1.5)        \n",
    "G.add_edge('C', 'A', weight=2.0)\n",
    "G.add_edge('D', 'E', weight=1.0)\n",
    "\n",
    "G.add_edges_from([('A', 'B', {'weight':2.5}), \n",
    "                  ('B', 'C', {'weight':1.5}), \n",
    "                  ('C', 'A', {'weight':2.0}), \n",
    "                  ('D', 'E', {'weight':1.0})])"
   ]
  },
  {
   "cell_type": "code",
   "execution_count": null,
   "id": "d94fd5ac",
   "metadata": {},
   "outputs": [],
   "source": [
    "nx.get_edge_attributes(G,'weight')"
   ]
  },
  {
   "cell_type": "code",
   "execution_count": null,
   "id": "440ac5c2",
   "metadata": {},
   "outputs": [],
   "source": [
    "G.edges()"
   ]
  },
  {
   "cell_type": "code",
   "execution_count": null,
   "id": "9d0c2712",
   "metadata": {},
   "outputs": [],
   "source": [
    "G.adj"
   ]
  },
  {
   "cell_type": "code",
   "execution_count": null,
   "id": "a033dc8f",
   "metadata": {},
   "outputs": [],
   "source": [
    "list(G.adjacency())"
   ]
  },
  {
   "cell_type": "code",
   "execution_count": null,
   "id": "95e6bb27",
   "metadata": {},
   "outputs": [],
   "source": [
    "#pos = nx.spring_layout(G)\n",
    "#pos"
   ]
  },
  {
   "cell_type": "code",
   "execution_count": null,
   "id": "8f856f18",
   "metadata": {},
   "outputs": [],
   "source": [
    "nx.draw_networkx(G, pos, with_labels=True)"
   ]
  },
  {
   "cell_type": "code",
   "execution_count": null,
   "id": "e7783117",
   "metadata": {},
   "outputs": [],
   "source": []
  },
  {
   "cell_type": "code",
   "execution_count": null,
   "id": "e39167c2",
   "metadata": {},
   "outputs": [],
   "source": [
    "# nodes\n",
    "nx.draw_networkx_nodes(G, pos, node_size=700)\n",
    "# edges\n",
    "nx.draw_networkx_edges(G, pos, edgelist=G.edges(), width=6)\n",
    "# labels\n",
    "# node labels\n",
    "nx.draw_networkx_labels(G, pos, font_size=20)\n",
    "# edge weight labels\n",
    "edge_labels = nx.get_edge_attributes(G, \"weight\")\n",
    "nx.draw_networkx_edge_labels(G, pos, edge_labels)"
   ]
  },
  {
   "cell_type": "markdown",
   "id": "4d8019ea",
   "metadata": {},
   "source": [
    "### Eliminando aristas"
   ]
  },
  {
   "cell_type": "code",
   "execution_count": null,
   "id": "a43ae3d0",
   "metadata": {},
   "outputs": [],
   "source": [
    "G.remove_edge('D', 'E')\n",
    "nx.draw_networkx(G, with_labels=True)"
   ]
  },
  {
   "cell_type": "markdown",
   "id": "2cd504e9",
   "metadata": {},
   "source": [
    "## Grafo a dataframe"
   ]
  },
  {
   "cell_type": "code",
   "execution_count": null,
   "id": "ad7de3ff",
   "metadata": {},
   "outputs": [],
   "source": [
    "nx.to_pandas_adjacency(G)"
   ]
  },
  {
   "cell_type": "code",
   "execution_count": null,
   "id": "61d5df80",
   "metadata": {},
   "outputs": [],
   "source": [
    "nx.to_pandas_edgelist(G)"
   ]
  },
  {
   "cell_type": "code",
   "execution_count": null,
   "id": "52f4c720",
   "metadata": {},
   "outputs": [],
   "source": []
  }
 ],
 "metadata": {
  "kernelspec": {
   "display_name": "Python 3 (ipykernel)",
   "language": "python",
   "name": "python3"
  },
  "language_info": {
   "codemirror_mode": {
    "name": "ipython",
    "version": 3
   },
   "file_extension": ".py",
   "mimetype": "text/x-python",
   "name": "python",
   "nbconvert_exporter": "python",
   "pygments_lexer": "ipython3",
   "version": "3.9.7"
  }
 },
 "nbformat": 4,
 "nbformat_minor": 5
}
